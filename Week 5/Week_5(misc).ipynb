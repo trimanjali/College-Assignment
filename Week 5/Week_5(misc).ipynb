{
  "nbformat": 4,
  "nbformat_minor": 0,
  "metadata": {
    "colab": {
      "provenance": []
    },
    "kernelspec": {
      "name": "python3",
      "display_name": "Python 3"
    },
    "language_info": {
      "name": "python"
    }
  },
  "cells": [
    {
      "cell_type": "markdown",
      "source": [
        "# 1. Write a python program to check whether a given matrix is sparse or not.\n"
      ],
      "metadata": {
        "id": "MP4LmhWQ77ND"
      }
    },
    {
      "cell_type": "code",
      "execution_count": 5,
      "metadata": {
        "colab": {
          "base_uri": "https://localhost:8080/"
        },
        "id": "pa_7uibN688Y",
        "outputId": "15682849-491b-4ab9-a11c-c0b017051e00"
      },
      "outputs": [
        {
          "output_type": "stream",
          "name": "stdout",
          "text": [
            "The matrix is sparse: False\n"
          ]
        }
      ],
      "source": [
        "def is_sparse(matrix):\n",
        "    total_elements = len(matrix) * len(matrix[0])\n",
        "    zero_count = sum(row.count(0) for row in matrix)\n",
        "    return zero_count > total_elements / 2\n",
        "\n",
        "matrix = [\n",
        "    [5, 8, 0],\n",
        "    [0, 4, 0],\n",
        "    [2, 0, 8]\n",
        "]\n",
        "\n",
        "print(\"The matrix is sparse:\", is_sparse(matrix))\n"
      ]
    },
    {
      "cell_type": "markdown",
      "source": [
        "# 2. Write a python program to count the prime numbers in an array.\n"
      ],
      "metadata": {
        "id": "c8amjpav8GPV"
      }
    },
    {
      "cell_type": "code",
      "source": [
        "def is_prime(n):\n",
        "    if n <= 1:\n",
        "        return False\n",
        "    for i in range(2, int(n**0.5) + 1):\n",
        "        if n % i == 0:\n",
        "            return False\n",
        "    return True\n",
        "\n",
        "def count_primes(arr):\n",
        "    return sum(1 for x in arr if is_prime(x))\n",
        "\n",
        "array = [2, 3, 4, 5, 6, 7, 8, 9, 10]\n",
        "print(\"Number of prime numbers:\", count_primes(array))\n"
      ],
      "metadata": {
        "colab": {
          "base_uri": "https://localhost:8080/"
        },
        "id": "pyZUNdjG8J6p",
        "outputId": "ca673bde-a191-4b38-f4b8-0cb1f50e39a7"
      },
      "execution_count": 3,
      "outputs": [
        {
          "output_type": "stream",
          "name": "stdout",
          "text": [
            "Number of prime numbers: 4\n"
          ]
        }
      ]
    },
    {
      "cell_type": "markdown",
      "source": [
        "# 3. Write a python program to find second highest element of an array.\n"
      ],
      "metadata": {
        "id": "aUj058J_8KLi"
      }
    },
    {
      "cell_type": "code",
      "source": [
        "def second_highest(arr):\n",
        "    unique_arr = list(set(arr))\n",
        "    unique_arr.sort()\n",
        "    return unique_arr[-2] if len(unique_arr) > 1 else None\n",
        "\n",
        "array = [10, 20, 4, 45, 99, 99]\n",
        "print(\"Second highest element:\", second_highest(array))\n"
      ],
      "metadata": {
        "colab": {
          "base_uri": "https://localhost:8080/"
        },
        "id": "QASgJXgV8PVx",
        "outputId": "c06eb31e-6a0a-47bb-bb4f-1188ab80b410"
      },
      "execution_count": 6,
      "outputs": [
        {
          "output_type": "stream",
          "name": "stdout",
          "text": [
            "Second highest element: 45\n"
          ]
        }
      ]
    },
    {
      "cell_type": "markdown",
      "source": [
        "# 4. Write a python program which counts the non-zero elements in an integer array.\n"
      ],
      "metadata": {
        "id": "cYj1wXCw8Po5"
      }
    },
    {
      "cell_type": "code",
      "source": [
        "def count_non_zero(arr):\n",
        "    return sum(1 for x in arr if x != 0)\n",
        "\n",
        "array = [0, 1, 2, 0, 3, 4, 0]\n",
        "print(\"Number of non-zero elements:\", count_non_zero(array))\n"
      ],
      "metadata": {
        "colab": {
          "base_uri": "https://localhost:8080/"
        },
        "id": "s83xrhkg8S8k",
        "outputId": "f6b0a741-be65-40dd-aec1-26256a854bd8"
      },
      "execution_count": 7,
      "outputs": [
        {
          "output_type": "stream",
          "name": "stdout",
          "text": [
            "Number of non-zero elements: 4\n"
          ]
        }
      ]
    },
    {
      "cell_type": "markdown",
      "source": [
        "# 5. Write a python program to merge two float arrays.\n"
      ],
      "metadata": {
        "id": "2oyNXTiN8Tp2"
      }
    },
    {
      "cell_type": "code",
      "source": [
        "def merge_arrays(arr1, arr2):\n",
        "    return arr1 + arr2\n",
        "\n",
        "array1 = [1.1, 2.2, 3.3]\n",
        "array2 = [4.4, 5.5, 6.6]\n",
        "print(\"Merged array:\", merge_arrays(array1, array2))\n"
      ],
      "metadata": {
        "colab": {
          "base_uri": "https://localhost:8080/"
        },
        "id": "5cXEpnw98XfP",
        "outputId": "cda7538a-5e34-404e-e41c-ff48c45de64b"
      },
      "execution_count": 8,
      "outputs": [
        {
          "output_type": "stream",
          "name": "stdout",
          "text": [
            "Merged array: [1.1, 2.2, 3.3, 4.4, 5.5, 6.6]\n"
          ]
        }
      ]
    },
    {
      "cell_type": "markdown",
      "source": [
        "# 6. Write a python program where elements of two integer arrays get added index wise and get stored into a third array.\n"
      ],
      "metadata": {
        "id": "jGhZEdth8Xt1"
      }
    },
    {
      "cell_type": "code",
      "source": [
        "def add_arrays(arr1, arr2):\n",
        "    return [x + y for x, y in zip(arr1, arr2)]\n",
        "\n",
        "a = [1, 2, 3]\n",
        "b = [4, 5, 6]\n",
        "print(\"Added array:\", add_arrays(a, b))\n"
      ],
      "metadata": {
        "colab": {
          "base_uri": "https://localhost:8080/"
        },
        "id": "4BIF3brR8azK",
        "outputId": "3e47a833-b6cd-4fb6-9066-ff119765bbd3"
      },
      "execution_count": 9,
      "outputs": [
        {
          "output_type": "stream",
          "name": "stdout",
          "text": [
            "Added array: [5, 7, 9]\n"
          ]
        }
      ]
    },
    {
      "cell_type": "markdown",
      "source": [
        "# 7. Write a python program to multiply two matrices.\n"
      ],
      "metadata": {
        "id": "zd4wW7Ds8bB9"
      }
    },
    {
      "cell_type": "code",
      "source": [
        "def get_matrix_input(rows, cols):\n",
        "    matrix = []\n",
        "    print(f\"Enter the elements of the matrix ({rows}x{cols}):\")\n",
        "    for i in range(rows):\n",
        "        row = list(map(int, input(f\"Enter row {i + 1}: \").split()))\n",
        "        matrix.append(row)\n",
        "    return matrix\n",
        "\n",
        "def multiply_matrices(A, B):\n",
        "    result = [[0 for _ in range(len(B[0]))] for _ in range(len(A))]\n",
        "    for i in range(len(A)):\n",
        "        for j in range(len(B[0])):\n",
        "            for k in range(len(B)):\n",
        "                result[i][j] += A[i][k] * B[k][j]\n",
        "    return result\n",
        "\n",
        "rows_A = int(input(\"Enter the number of rows for matrix A: \"))\n",
        "cols_A = int(input(\"Enter the number of columns for matrix A : \"))\n",
        "rows_B = int(input(\"Enter the number of rows for matrix B: \"))\n",
        "cols_B = int(input(\"Enter the number of columns for matrix B: \"))\n",
        "\n",
        "print(\"Matrix A:\")\n",
        "A = get_matrix_input(rows_A, cols_A)\n",
        "print(\"Matrix B:\")\n",
        "B = get_matrix_input(rows_B, cols_B)\n",
        "\n",
        "if cols_A != rows_B:\n",
        "    print(\"Matrices cannot be multiplied.\")\n",
        "else:\n",
        "  result = multiply_matrices(A, B)\n",
        "\n",
        "\n",
        "print(\"Product of matrices:\")\n",
        "for row in result:\n",
        "    print(row)\n"
      ],
      "metadata": {
        "colab": {
          "base_uri": "https://localhost:8080/"
        },
        "id": "ycf8pLkM8ecC",
        "outputId": "57489d8c-6422-4924-b14a-b0f5faec03a6"
      },
      "execution_count": 13,
      "outputs": [
        {
          "output_type": "stream",
          "name": "stdout",
          "text": [
            "Enter the number of rows for matrix A: 2\n",
            "Enter the number of columns for matrix A : 2\n",
            "Enter the number of rows for matrix B: 2\n",
            "Enter the number of columns for matrix B: 2\n",
            "Matrix A:\n",
            "Enter the elements of the matrix (2x2):\n",
            "Enter row 1: 2 6\n",
            "Enter row 2: 6 2\n",
            "Matrix B:\n",
            "Enter the elements of the matrix (2x2):\n",
            "Enter row 1: 1 1\n",
            "Enter row 2: 1 1\n",
            "Product of matrices:\n",
            "[8, 8]\n",
            "[8, 8]\n"
          ]
        }
      ]
    },
    {
      "cell_type": "markdown",
      "source": [
        "# 8. Write a python program to subtract two matrices.\n"
      ],
      "metadata": {
        "id": "pok66AJK8e3M"
      }
    },
    {
      "cell_type": "code",
      "source": [
        "def get_matrix_input(rows, cols):\n",
        "    matrix = []\n",
        "    print(f\"Enter the elements of the matrix ({rows}x{cols}):\")\n",
        "    for i in range(rows):\n",
        "        row = list(map(int, input(f\"Enter row {i + 1}: \").split()))\n",
        "        matrix.append(row)\n",
        "    return matrix\n",
        "\n",
        "def subtract_matrices(A, B):\n",
        "\n",
        "    if len(A) != len(B) or len(A[0]) != len(B[0]):\n",
        "        raise ValueError(\"Matrices must have the same dimensions for subtraction.\")\n",
        "    else:\n",
        "        for i in range(len(A)):\n",
        "            for j in range(len(A[0])):\n",
        "                A[i][j] -= B[i][j]\n",
        "\n",
        "        return A\n",
        "\n",
        "\n",
        "# Input dimensions for matrices\n",
        "rows = int(input(\"Enter the number of rows for the matrices: \"))\n",
        "cols = int(input(\"Enter the number of columns for the matrices: \"))\n",
        "\n",
        "# Get matrix inputs from user\n",
        "print(\"Matrix A:\")\n",
        "A = get_matrix_input(rows, cols)\n",
        "print(\"Matrix B:\")\n",
        "B = get_matrix_input(rows, cols)\n",
        "\n",
        "# Subtract matrices\n",
        "result = subtract_matrices(A, B)\n",
        "\n",
        "# Display result\n",
        "print(\"Difference of matrices:\")\n",
        "for row in result:\n",
        "    print(row)\n"
      ],
      "metadata": {
        "colab": {
          "base_uri": "https://localhost:8080/"
        },
        "id": "2Q8iWe3s8hg4",
        "outputId": "d14736a0-c06b-4df3-eb44-f60881a49c14"
      },
      "execution_count": 14,
      "outputs": [
        {
          "output_type": "stream",
          "name": "stdout",
          "text": [
            "Enter the number of rows for the matrices: 2\n",
            "Enter the number of columns for the matrices: 2\n",
            "Matrix A:\n",
            "Enter the elements of the matrix (2x2):\n",
            "Enter row 1: 1 1\n",
            "Enter row 2: 1 1\n",
            "Matrix B:\n",
            "Enter the elements of the matrix (2x2):\n",
            "Enter row 1: 1 1\n",
            "Enter row 2: 1 1\n",
            "Difference of matrices:\n",
            "[0, 0]\n",
            "[0, 0]\n"
          ]
        }
      ]
    },
    {
      "cell_type": "markdown",
      "source": [
        "# 9. Write a python program to find duplicate elements in a 1D array and find their frequency of occurrence.\n"
      ],
      "metadata": {
        "id": "wTMoGyzx8iEg"
      }
    },
    {
      "cell_type": "code",
      "source": [
        "from collections import Counter\n",
        "\n",
        "def find_duplicates(arr):\n",
        "    count = Counter(arr)\n",
        "    return {k: v for k, v in count.items() if v > 1}\n",
        "\n",
        "array = [1, 2, 3, 2, 3, 4, 5]\n",
        "print(\"Duplicates and their frequencies:\", find_duplicates(array))\n"
      ],
      "metadata": {
        "colab": {
          "base_uri": "https://localhost:8080/"
        },
        "id": "04epR4By8k_d",
        "outputId": "e8828a20-b768-424a-96c2-65e311542e78"
      },
      "execution_count": 10,
      "outputs": [
        {
          "output_type": "stream",
          "name": "stdout",
          "text": [
            "Duplicates and their frequencies: {2: 2, 3: 2}\n"
          ]
        }
      ]
    },
    {
      "cell_type": "markdown",
      "source": [
        "# 10. Write a python program to print every alternate number of a given array.\n"
      ],
      "metadata": {
        "id": "SPOrOWCp8lMH"
      }
    },
    {
      "cell_type": "code",
      "source": [
        "def print_alternate(arr):\n",
        "    return arr[::2]\n",
        "\n",
        "array = [1, 2, 3, 4, 5, 6]\n",
        "print(\"Every alternate number:\", print_alternate(array))\n"
      ],
      "metadata": {
        "colab": {
          "base_uri": "https://localhost:8080/"
        },
        "id": "AlOUs8Qs-cUg",
        "outputId": "df8681e0-5465-4ffe-d2e0-3497397f0d4d"
      },
      "execution_count": 12,
      "outputs": [
        {
          "output_type": "stream",
          "name": "stdout",
          "text": [
            "Every alternate number: [1, 3, 5]\n"
          ]
        }
      ]
    }
  ]
}