{
  "nbformat": 4,
  "nbformat_minor": 0,
  "metadata": {
    "colab": {
      "provenance": []
    },
    "kernelspec": {
      "name": "python3",
      "display_name": "Python 3"
    },
    "language_info": {
      "name": "python"
    }
  },
  "cells": [
    {
      "cell_type": "markdown",
      "source": [
        "# 1.The following is a list of 10 students ages:\n",
        "```\n",
        "ages = [19, 22, 19, 24, 20, 25, 26, 24, 25, 24]\n",
        "I. Sort the list and find the min and max age\n",
        "II. Add the min age and the max age again to the list\n",
        "III. Find the median age (one middle item or two middle items divided by two)\n",
        "IV. Find the average age (sum of all items divided by their number )\n",
        "V. Find the range of the ages (max minus min)\n",
        "VI. Compare the value of (min - average) and (max - average), use _abs()_ method\n",
        "```\n",
        "\n"
      ],
      "metadata": {
        "id": "Se3FGlw7uxPl"
      }
    },
    {
      "cell_type": "code",
      "execution_count": 1,
      "metadata": {
        "colab": {
          "base_uri": "https://localhost:8080/"
        },
        "id": "-mHdeNvCumOe",
        "outputId": "7009915a-4237-4115-d043-837fa59ba6e1"
      },
      "outputs": [
        {
          "output_type": "stream",
          "name": "stdout",
          "text": [
            "Sorted ages: [19, 19, 20, 22, 24, 24, 24, 25, 25, 26]\n",
            "Min age: 19\n",
            "Max age: 26\n",
            "Ages after adding min and max again: [19, 19, 20, 22, 24, 24, 24, 25, 25, 26, 19, 26]\n",
            "Median age: 24.0\n",
            "Average age: 22.75\n",
            "Range of ages: 7\n",
            "Absolute difference between min age and average: 3.75\n",
            "Absolute difference between max age and average: 3.25\n"
          ]
        }
      ],
      "source": [
        "ages = [19, 22, 19, 24, 20, 25, 26, 24, 25, 24]\n",
        "\n",
        "# I. Sort the list and find the min and max age\n",
        "ages.sort()\n",
        "min_age = ages[0]\n",
        "max_age = ages[-1]\n",
        "print(\"Sorted ages:\", ages)\n",
        "print(\"Min age:\", min_age)\n",
        "print(\"Max age:\", max_age)\n",
        "\n",
        "# II. Add the min age and the max age again to the list\n",
        "ages.append(min_age)\n",
        "ages.append(max_age)\n",
        "print(\"Ages after adding min and max again:\", ages)\n",
        "\n",
        "# III. Find the median age\n",
        "ages.sort()\n",
        "n = len(ages)\n",
        "if n % 2 == 0:\n",
        "    median_age = (ages[n//2 - 1] + ages[n//2]) / 2\n",
        "else:\n",
        "    median_age = ages[n//2]\n",
        "print(\"Median age:\", median_age)\n",
        "\n",
        "# IV. Find the average age\n",
        "average_age = sum(ages) / len(ages)\n",
        "print(\"Average age:\", average_age)\n",
        "\n",
        "# V. Find the range of the ages\n",
        "age_range = max_age - min_age\n",
        "print(\"Range of ages:\", age_range)\n",
        "\n",
        "# VI. Compare the value of (min - average) and (max - average), use abs() method\n",
        "min_average_diff = abs(min_age - average_age)\n",
        "max_average_diff = abs(max_age - average_age)\n",
        "print(\"Absolute difference between min age and average:\", min_average_diff)\n",
        "print(\"Absolute difference between max age and average:\", max_average_diff)\n"
      ]
    },
    {
      "cell_type": "markdown",
      "source": [
        "# 2.Iterate through the list, ['Python', 'Numpy','Pandas','Django', 'Flask'] using a for loop and print out the items.\n"
      ],
      "metadata": {
        "id": "KHBqaSsOwaxH"
      }
    },
    {
      "cell_type": "code",
      "source": [
        "technologies = ['Python', 'Numpy', 'Pandas', 'Django', 'Flask']\n",
        "\n",
        "for tech in technologies:\n",
        "    print(tech, end=\",\")\n"
      ],
      "metadata": {
        "colab": {
          "base_uri": "https://localhost:8080/"
        },
        "id": "8HmltZfAxcPM",
        "outputId": "6b60cfc8-49c7-44e2-9e92-37dfb7e0af70"
      },
      "execution_count": 2,
      "outputs": [
        {
          "output_type": "stream",
          "name": "stdout",
          "text": [
            "Python,Numpy,Pandas,Django,Flask,"
          ]
        }
      ]
    },
    {
      "cell_type": "markdown",
      "source": [
        "# 3.Create fruits, vegetables and animal products tuples.\n",
        "```\n",
        "I. Join the three tuples and assign it to a variable called food_stuff_tp.\n",
        "II. Change the about food_stuff_tp tuple to a food_stuff_lt list\n",
        "III. Slice out the middle item or items from the food_stuff_tp tuple or food_stuff_lt list.\n",
        "IV. Slice out the first three items and the last three items from food_staff_lt list\n",
        "V. Delete the food_staff_tp tuple completely\n",
        "```"
      ],
      "metadata": {
        "id": "GDeNdCiixn-J"
      }
    },
    {
      "cell_type": "code",
      "source": [
        "# I. Create fruits, vegetables, and animal products tuples\n",
        "fruits = ('guava', 'kiwi', 'avocado')\n",
        "vegetables = ('cucumbre', 'potato', 'tomato')\n",
        "animal_products = ('butter', 'chicken', 'milk')\n",
        "\n",
        "# II. Join the three tuples and assign it to a variable called food_stuff_tp\n",
        "food_stuff_tp = fruits + vegetables + animal_products\n",
        "print(\"Food stuff tuple:\", food_stuff_tp)\n",
        "\n",
        "# III. Change the food_stuff_tp tuple to a food_stuff_lt list\n",
        "food_stuff_lt = list(food_stuff_tp)\n",
        "print(\"Food stuff list:\", food_stuff_lt)\n",
        "\n",
        "# IV. Slice out the middle item or items from the food_stuff_lt list\n",
        "n = len(food_stuff_lt)\n",
        "if n % 2 == 0:\n",
        "    middle_items = food_stuff_lt[n//2 - 1 : n//2 + 1]\n",
        "else:\n",
        "    middle_items = [food_stuff_lt[n//2]]\n",
        "print(\"Middle item(s):\", middle_items)\n",
        "\n",
        "# V. Slice out the first three items and the last three items from food_stuff_lt list\n",
        "first_three_items = food_stuff_lt[:3]\n",
        "last_three_items = food_stuff_lt[-3:]\n",
        "print(\"First three items:\", first_three_items)\n",
        "print(\"Last three items:\", last_three_items)\n",
        "\n",
        "# VI. Delete the food_stuff_tp tuple completely\n",
        "del food_stuff_tp\n"
      ],
      "metadata": {
        "colab": {
          "base_uri": "https://localhost:8080/"
        },
        "id": "qaRnPa62xsRx",
        "outputId": "60e0fc8a-9e9e-446d-cef9-f530cdb61f7f"
      },
      "execution_count": 4,
      "outputs": [
        {
          "output_type": "stream",
          "name": "stdout",
          "text": [
            "Food stuff tuple: ('guava', 'kiwi', 'avocado', 'cucumbre', 'potato', 'tomato', 'butter', 'chicken', 'milk')\n",
            "Food stuff list: ['guava', 'kiwi', 'avocado', 'cucumbre', 'potato', 'tomato', 'butter', 'chicken', 'milk']\n",
            "Middle item(s): ['potato']\n",
            "First three items: ['guava', 'kiwi', 'avocado']\n",
            "Last three items: ['butter', 'chicken', 'milk']\n"
          ]
        }
      ]
    },
    {
      "cell_type": "markdown",
      "source": [
        "# 3. Create a set given below\n",
        "```\n",
        "it_companies = {'Facebook', 'Google', 'Microsoft', 'Apple', 'IBM', 'Oracle', 'Amazon'}\n",
        "A = {19, 22, 24, 20, 25, 26}\n",
        "B = {19, 22, 20, 25, 26, 24, 28, 27}\n",
        "age = [22, 19, 24, 25, 26, 24, 25, 24]\n",
        "I. Find the length of the set it_companies\n",
        "II. Add 'Twitter' to it_companies\n",
        "III. Insert multiple IT companies at once to the set it_companies\n",
        "IV. Remove one of the companies from the set it_companies\n",
        "V. What is the difference between remove and discard\n",
        "```"
      ],
      "metadata": {
        "id": "mvn_iU64y0ol"
      }
    },
    {
      "cell_type": "code",
      "source": [
        "# Create the sets\n",
        "it_companies = {'Facebook', 'Google', 'Microsoft', 'Apple', 'IBM', 'Oracle', 'Amazon'}\n",
        "A = {19, 22, 24, 20, 25, 26}\n",
        "B = {19, 22, 20, 25, 26, 24, 28, 27}\n",
        "age = [22, 19, 24, 25, 26, 24, 25, 24]\n",
        "\n",
        "# I. Find the length of the set it_companies\n",
        "length_it_companies = len(it_companies)\n",
        "print(\"Length of it_companies:\", length_it_companies)\n",
        "\n",
        "# II. Add 'Twitter' to it_companies\n",
        "it_companies.add('Twitter')\n",
        "print(\"it_companies after adding 'Twitter':\", it_companies)\n",
        "\n",
        "# III. Insert multiple IT companies at once into the set it_companies\n",
        "new_companies = {'Tesla', 'Netflix', 'Zoom'}\n",
        "it_companies.update(new_companies)\n",
        "print(\"it_companies after adding multiple companies:\", it_companies)\n",
        "\n",
        "# IV. Remove one of the companies from the set it_companies\n",
        "it_companies.remove('IBM')  # Removing 'IBM' as an example\n",
        "print(\"it_companies after removing 'IBM':\", it_companies)\n",
        "\n",
        "# V. Difference between remove and discard\n",
        "it_companies.discard('NETFLIX')  # Doesn't Raises KeyError\n",
        "print(\"it_companies after removing 'IBM':\", it_companies)\n",
        "print(\"discard doenn't raise an error if it not in the set\")\n",
        "\n",
        "# remove(element) raises KeyError if the element does not exist\n",
        "it_companies.remove('NETFLIX')  # Raises KeyError\n",
        "print(\"it_companies after removing 'IBM':\", it_companies)\n",
        "print(\"remove raises an error if it not in the set\")\n",
        "\n"
      ],
      "metadata": {
        "colab": {
          "base_uri": "https://localhost:8080/",
          "height": 315
        },
        "id": "HzUW7ReHy9yw",
        "outputId": "56976cc5-ffaa-4ea0-ca2f-8064405759c9"
      },
      "execution_count": 7,
      "outputs": [
        {
          "output_type": "stream",
          "name": "stdout",
          "text": [
            "Length of it_companies: 7\n",
            "it_companies after adding 'Twitter': {'Apple', 'Twitter', 'IBM', 'Amazon', 'Oracle', 'Microsoft', 'Facebook', 'Google'}\n",
            "it_companies after adding multiple companies: {'Apple', 'Tesla', 'IBM', 'Amazon', 'Netflix', 'Zoom', 'Twitter', 'Facebook', 'Google', 'Microsoft', 'Oracle'}\n",
            "it_companies after removing 'IBM': {'Apple', 'Tesla', 'Amazon', 'Netflix', 'Zoom', 'Twitter', 'Facebook', 'Google', 'Microsoft', 'Oracle'}\n",
            "it_companies after removing 'IBM': {'Apple', 'Tesla', 'Amazon', 'Netflix', 'Zoom', 'Twitter', 'Facebook', 'Google', 'Microsoft', 'Oracle'}\n",
            "discard doenn't raise an error if it not in the set\n"
          ]
        },
        {
          "output_type": "error",
          "ename": "KeyError",
          "evalue": "'NETFLIX'",
          "traceback": [
            "\u001b[0;31m---------------------------------------------------------------------------\u001b[0m",
            "\u001b[0;31mKeyError\u001b[0m                                  Traceback (most recent call last)",
            "\u001b[0;32m<ipython-input-7-71f2699c8218>\u001b[0m in \u001b[0;36m<cell line: 30>\u001b[0;34m()\u001b[0m\n\u001b[1;32m     28\u001b[0m \u001b[0;34m\u001b[0m\u001b[0m\n\u001b[1;32m     29\u001b[0m \u001b[0;31m# remove(element) raises KeyError if the element does not exist\u001b[0m\u001b[0;34m\u001b[0m\u001b[0;34m\u001b[0m\u001b[0m\n\u001b[0;32m---> 30\u001b[0;31m \u001b[0mit_companies\u001b[0m\u001b[0;34m.\u001b[0m\u001b[0mremove\u001b[0m\u001b[0;34m(\u001b[0m\u001b[0;34m'NETFLIX'\u001b[0m\u001b[0;34m)\u001b[0m  \u001b[0;31m# Raises KeyError\u001b[0m\u001b[0;34m\u001b[0m\u001b[0;34m\u001b[0m\u001b[0m\n\u001b[0m\u001b[1;32m     31\u001b[0m \u001b[0mprint\u001b[0m\u001b[0;34m(\u001b[0m\u001b[0;34m\"it_companies after removing 'IBM':\"\u001b[0m\u001b[0;34m,\u001b[0m \u001b[0mit_companies\u001b[0m\u001b[0;34m)\u001b[0m\u001b[0;34m\u001b[0m\u001b[0;34m\u001b[0m\u001b[0m\n\u001b[1;32m     32\u001b[0m \u001b[0mprint\u001b[0m\u001b[0;34m(\u001b[0m\u001b[0;34m\"remove raises an error if it not in the set\"\u001b[0m\u001b[0;34m)\u001b[0m\u001b[0;34m\u001b[0m\u001b[0;34m\u001b[0m\u001b[0m\n",
            "\u001b[0;31mKeyError\u001b[0m: 'NETFLIX'"
          ]
        }
      ]
    },
    {
      "cell_type": "markdown",
      "source": [
        "4. From the above sets A and B\n",
        "```\n",
        "I. Join A and B\n",
        "II. Find A intersection B\n",
        "III. Is A subset of B\n",
        "IV. Are A and B disjoint sets\n",
        "V. Join A with B and B with A\n",
        "VI. What is the symmetric difference between A and B\n",
        "VII. Delete the sets completely\n",
        "```"
      ],
      "metadata": {
        "id": "RlVpMx0B2oDv"
      }
    },
    {
      "cell_type": "code",
      "source": [
        "A = {19, 22, 24, 20, 25, 26}\n",
        "B = {19, 22, 20, 25, 26, 24, 28, 27}\n",
        "\n",
        "# I. Join A and B\n",
        "A_union_B = A.union(B)\n",
        "print(\"A union B:\", A_union_B)\n",
        "\n",
        "# II. Find A intersection B\n",
        "A_intersection_B = A.intersection(B)\n",
        "print(\"A intersection B:\", A_intersection_B)\n",
        "\n",
        "# III. Is A subset of B\n",
        "is_A_subset_of_B = A.issubset(B)\n",
        "print(\"Is A a subset of B:\", is_A_subset_of_B)\n",
        "\n",
        "# IV. Are A and B disjoint sets\n",
        "are_A_and_B_disjoint = A.isdisjoint(B)\n",
        "print(\"Are A and B disjoint sets:\", are_A_and_B_disjoint)\n",
        "\n",
        "# V. Join A with B and B with A\n",
        "A_union_B = A.union(B)\n",
        "B_union_A = B.union(A)\n",
        "print(\"A union B:\", A_union_B)\n",
        "print(\"B union A:\", B_union_A)\n",
        "\n",
        "# VI. What is the symmetric difference between A and B\n",
        "symmetric_diff = A.symmetric_difference(B)\n",
        "print(\"Symmetric difference between A and B:\", symmetric_diff)\n",
        "\n",
        "# VII. Delete the sets completely\n",
        "del A\n",
        "del B\n",
        "print(\"Sets A and B are deleted.\")\n"
      ],
      "metadata": {
        "colab": {
          "base_uri": "https://localhost:8080/"
        },
        "id": "VoQokHo029fw",
        "outputId": "18062ce6-8540-45a9-a661-ccf3d3fc33ea"
      },
      "execution_count": 8,
      "outputs": [
        {
          "output_type": "stream",
          "name": "stdout",
          "text": [
            "A union B: {19, 20, 22, 24, 25, 26, 27, 28}\n",
            "A intersection B: {19, 20, 22, 24, 25, 26}\n",
            "Is A a subset of B: True\n",
            "Are A and B disjoint sets: False\n",
            "A union B: {19, 20, 22, 24, 25, 26, 27, 28}\n",
            "B union A: {19, 20, 22, 24, 25, 26, 27, 28}\n",
            "Symmetric difference between A and B: {27, 28}\n",
            "Sets A and B are deleted.\n"
          ]
        }
      ]
    },
    {
      "cell_type": "markdown",
      "source": [
        "# 5. Create an empty dictionary called dog.Add name, color, breed, legs, age to the dog dictionary"
      ],
      "metadata": {
        "id": "c5S-7lHh3EBz"
      }
    },
    {
      "cell_type": "code",
      "source": [
        "dog = {}\n",
        "\n",
        "dog['name'] = 'Buddy'\n",
        "dog['color'] = 'Brown'\n",
        "dog['breed'] = 'Golden Retriever'\n",
        "dog['legs'] = 4\n",
        "dog['age'] = 3\n",
        "\n",
        "print(dog)\n"
      ],
      "metadata": {
        "colab": {
          "base_uri": "https://localhost:8080/"
        },
        "id": "EZ9UDNDa3KJZ",
        "outputId": "9b8c2463-e2f7-437d-f71a-9af21e679fb0"
      },
      "execution_count": 9,
      "outputs": [
        {
          "output_type": "stream",
          "name": "stdout",
          "text": [
            "{'name': 'Buddy', 'color': 'Brown', 'breed': 'Golden Retriever', 'legs': 4, 'age': 3}\n"
          ]
        }
      ]
    },
    {
      "cell_type": "markdown",
      "source": [
        "# 6. Create a student dictionary and add first_name, last_name, gender, age, marital status, skills,\n",
        "```\n",
        "country, city and address as keys for the dictionary\n",
        "I. Get the length of the student dictionary\n",
        "II. Get the value of skills and check the data type, it should be a list\n",
        "III. Modify the skills values by adding one or two skills\n",
        "IV. Get the dictionary keys as a list\n",
        "V. Get the dictionary values as a list\n",
        "VI. Change the dictionary to a list of tuples using _items()_ method\n",
        "VII. Delete one of the items in the dictionary\n",
        "VIII. Delete one of the dictionaries\n",
        "```"
      ],
      "metadata": {
        "id": "6CDfPd9Z3yF4"
      }
    },
    {
      "cell_type": "code",
      "source": [
        "# I. Create the student dictionary\n",
        "student = {\n",
        "    'first_name': 'Subha',\n",
        "    'last_name': 'Saha',\n",
        "    'gender': 'Male',\n",
        "    'age': 22,\n",
        "    'marital_status': 'Single',\n",
        "    'skills': ['Python', 'Java'],\n",
        "    'country': 'INDIA',\n",
        "    'city': 'Newtown',\n",
        "    'address': 'PIN: 700160'\n",
        "}\n",
        "\n",
        "# II. Get the length of the student dictionary\n",
        "length_student = len(student)\n",
        "print(\"Length of student dictionary:\", length_student)\n",
        "\n",
        "# III. Get the value of skills and check the data type\n",
        "skills = student['skills']\n",
        "print(\"Skills:\", skills)\n",
        "print(\"Data type of skills:\", type(skills))  # Should output <class 'list'>\n",
        "\n",
        "# IV. Modify the skills values by adding one or two skills\n",
        "student['skills'].append('PLSQL')\n",
        "student['skills'].append('C++')\n",
        "print(\"Updated skills:\", student['skills'])\n",
        "\n",
        "# V. Get the dictionary keys as a list\n",
        "keys = list(student.keys())\n",
        "print(\"Dictionary keys:\", keys)\n",
        "\n",
        "# VI. Get the dictionary values as a list\n",
        "values = list(student.values())\n",
        "print(\"Dictionary values:\", values)\n",
        "\n",
        "# VII. Change the dictionary to a list of tuples using items() method\n",
        "items = list(student.items())\n",
        "print(\"Dictionary as list of tuples:\", items)\n",
        "\n",
        "# VIII. Delete one of the items in the dictionary\n",
        "del student['marital_status']\n",
        "print(\"Student dictionary after deleting 'marital_status':\", student)\n",
        "\n",
        "# IX. Delete the dictionary completely\n",
        "del student\n",
        "print(\"Student dictionary deleted.\")\n"
      ],
      "metadata": {
        "colab": {
          "base_uri": "https://localhost:8080/"
        },
        "id": "vMU-9c2933eM",
        "outputId": "7afe9108-4bf9-4e15-a136-38d65fa40512"
      },
      "execution_count": 10,
      "outputs": [
        {
          "output_type": "stream",
          "name": "stdout",
          "text": [
            "Length of student dictionary: 9\n",
            "Skills: ['Python', 'Java']\n",
            "Data type of skills: <class 'list'>\n",
            "Updated skills: ['Python', 'Java', 'PLSQL', 'C++']\n",
            "Dictionary keys: ['first_name', 'last_name', 'gender', 'age', 'marital_status', 'skills', 'country', 'city', 'address']\n",
            "Dictionary values: ['Subha', 'Saha', 'Male', 22, 'Single', ['Python', 'Java', 'PLSQL', 'C++'], 'INDIA', 'Newtown', 'PIN: 700160']\n",
            "Dictionary as list of tuples: [('first_name', 'Subha'), ('last_name', 'Saha'), ('gender', 'Male'), ('age', 22), ('marital_status', 'Single'), ('skills', ['Python', 'Java', 'PLSQL', 'C++']), ('country', 'INDIA'), ('city', 'Newtown'), ('address', 'PIN: 700160')]\n",
            "Student dictionary after deleting 'marital_status': {'first_name': 'Subha', 'last_name': 'Saha', 'gender': 'Male', 'age': 22, 'skills': ['Python', 'Java', 'PLSQL', 'C++'], 'country': 'INDIA', 'city': 'Newtown', 'address': 'PIN: 700160'}\n",
            "Student dictionary deleted.\n"
          ]
        }
      ]
    },
    {
      "cell_type": "markdown",
      "source": [
        "# 7.Create a person dictionary.\n",
        "```\n",
        "person={\n",
        "  'first_name': 'Asabeneh',\n",
        "  'last_name': 'Yetayeh',\n",
        "  'age': 250,\n",
        "  'country': 'Finland',\n",
        "  'is_marred': True,\n",
        "  'skills': ['JavaScript', 'React', 'Node', 'MongoDB', 'Python'],\n",
        "  'address': {\n",
        "    'street': 'Space street',\n",
        "    'zipcode': '02210'\n",
        "  }\n",
        "}\n",
        "  I. Check if the person dictionary has skills key, if so print out the middle skill in the skills list.\n",
        "  II. Check if the person dictionary has skills key, if so check if the person has 'Python' skill and\n",
        "  print out the result.\n",
        "  III. If a person skills has only JavaScript and React, print('He is a front end developer'), if the\n",
        "  person skills has Node, Python, MongoDB, print('He is a backend developer'), if the person\n",
        "  skills has React, Node and MongoDB, Print('He is a fullstack developer'), else print('unknown\n",
        "  title') - for more accurate results more conditions can be nested!\n",
        "  IV. If the person is married and if he lives in Finland, print the information in the following format:\n",
        "     Asabeneh Yetayeh lives in Finland. He is married.\n",
        "```"
      ],
      "metadata": {
        "id": "aSSXxBnc4osW"
      }
    },
    {
      "cell_type": "code",
      "source": [
        "\n",
        "person = {\n",
        "    'first_name': 'Asabeneh',\n",
        "    'last_name': 'Yetayeh',\n",
        "    'age': 250,\n",
        "    'country': 'Finland',\n",
        "    'is_marred': True,\n",
        "    'skills': ['JavaScript', 'React', 'Node', 'MongoDB', 'Python'],\n",
        "    'address': {\n",
        "        'street': 'Space street',\n",
        "        'zipcode': '02210'\n",
        "    }\n",
        "}\n",
        "\n",
        "# I. Check if the person dictionary has skills key, if so, print out the middle skill in the skills list\n",
        "if 'skills' in person:\n",
        "    skills = person['skills']\n",
        "    middle_index = len(skills) // 2\n",
        "    middle_skill = skills[middle_index]\n",
        "    print(\"Middle skill:\", middle_skill)\n",
        "\n",
        "# II. Check if the person dictionary has skills key, if so, check if the person has 'Python' skill and print out the result\n",
        "if 'skills' in person:\n",
        "    has_python = 'Python' in person['skills']\n",
        "    print(\"Has Python skill:\", has_python)\n",
        "\n",
        "# III. Determine the person's title based on their skills\n",
        "if 'JavaScript' in skills and 'React' in skills and len(skills) == 2:\n",
        "    print('He is a front end developer')\n",
        "elif 'Node' in skills and 'Python' in skills and 'MongoDB' in skills:\n",
        "    print('He is a backend developer')\n",
        "elif 'React' in skills and 'Node' in skills and 'MongoDB' in skills:\n",
        "    print('He is a fullstack developer')\n",
        "else:\n",
        "    print('Unknown title')\n",
        "\n",
        "# IV. If the person is married and lives in Finland, print the information\n",
        "if person['is_marred'] and person['country'] == 'Finland':\n",
        "    full_name = person['first_name'] + ' ' + person['last_name']\n",
        "    print(f\"{full_name} lives in Finland. He is married.\")\n"
      ],
      "metadata": {
        "colab": {
          "base_uri": "https://localhost:8080/"
        },
        "id": "zthvUaFq5QUB",
        "outputId": "3e463007-d747-48f2-c6a7-b970753fb109"
      },
      "execution_count": 11,
      "outputs": [
        {
          "output_type": "stream",
          "name": "stdout",
          "text": [
            "Middle skill: Node\n",
            "Has Python skill: True\n",
            "He is a backend developer\n",
            "Asabeneh Yetayeh lives in Finland. He is married.\n"
          ]
        }
      ]
    },
    {
      "cell_type": "markdown",
      "source": [
        "# 8. Print the season name of the year based on the month number using a dictionary."
      ],
      "metadata": {
        "id": "azJBBrzt5Q1-"
      }
    },
    {
      "cell_type": "code",
      "source": [
        "month_to_season = {\n",
        "    1: 'Winter', 2: 'Winter', 3: 'Spring',\n",
        "    4: 'Spring', 5: 'Spring', 6: 'Summer',\n",
        "    7: 'Summer', 8: 'Summer', 9: 'Autumn',\n",
        "    10: 'Autumn', 11: 'Autumn', 12: 'Winter'\n",
        "}\n",
        "\n",
        "def get_season(month):\n",
        "    return month_to_season.get(month, 'Invalid month')\n",
        "\n",
        "month_number = int(input(\"Enter the month number: \"))\n",
        "season = get_season(month_number)\n",
        "print(f\"The season for month {month_number} is {season}.\")\n"
      ],
      "metadata": {
        "colab": {
          "base_uri": "https://localhost:8080/"
        },
        "id": "j6MvWHbJ5Z_E",
        "outputId": "9eb54de4-b6c6-49e3-fa71-590fc715987a"
      },
      "execution_count": 12,
      "outputs": [
        {
          "output_type": "stream",
          "name": "stdout",
          "text": [
            "Enter the month number: 12\n",
            "The season for month 12 is Winter.\n"
          ]
        }
      ]
    }
  ]
}