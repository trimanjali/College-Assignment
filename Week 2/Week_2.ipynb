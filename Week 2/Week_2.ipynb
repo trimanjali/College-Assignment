{
  "nbformat": 4,
  "nbformat_minor": 0,
  "metadata": {
    "colab": {
      "provenance": []
    },
    "kernelspec": {
      "name": "python3",
      "display_name": "Python 3"
    },
    "language_info": {
      "name": "python"
    }
  },
  "cells": [
    {
      "cell_type": "markdown",
      "source": [
        "# 1. To find the sum of square root of any three numbers."
      ],
      "metadata": {
        "id": "_8kMiUtL2gZ_"
      }
    },
    {
      "cell_type": "code",
      "execution_count": 3,
      "metadata": {
        "colab": {
          "base_uri": "https://localhost:8080/"
        },
        "id": "JVYKIV2n2dZJ",
        "outputId": "1d088694-0979-493e-e36f-644ed9bd2a7a"
      },
      "outputs": [
        {
          "output_type": "stream",
          "name": "stdout",
          "text": [
            "Enter 3 numbers: 5 5 5\n",
            "6.708203932499369\n"
          ]
        }
      ],
      "source": [
        "#1. To find the sum of square root of any three numbers.\n",
        "import math\n",
        "a,b,c=map(int,input(\"Enter 3 numbers: \").split())\n",
        "print(math.sqrt(a)+math.sqrt(b)+math.sqrt(c))\n",
        "\n"
      ]
    },
    {
      "cell_type": "markdown",
      "source": [
        "# 2. To solve the quadratic equation."
      ],
      "metadata": {
        "id": "cX1hSZRs4jJ_"
      }
    },
    {
      "cell_type": "code",
      "source": [
        "#2. To solve the quadratic equation.\n",
        "import cmath\n",
        "a,b,c=map(int,input(\"Enter 3 numbers: \").split())\n",
        "d=(b**2)-(4*a*c)\n",
        "sol1=(-b+cmath.sqrt(d))/(2*a)\n",
        "sol2=(-b-cmath.sqrt(d))/(2*a)\n",
        "print(sol1,sol2)"
      ],
      "metadata": {
        "colab": {
          "base_uri": "https://localhost:8080/"
        },
        "id": "cXmBbiAX4n1W",
        "outputId": "034df3c8-c283-4d2e-d749-00fc9b39a922"
      },
      "execution_count": 10,
      "outputs": [
        {
          "output_type": "stream",
          "name": "stdout",
          "text": [
            "Enter 3 numbers: 1 2 1\n",
            "(-1+0j) (-1+0j)\n"
          ]
        }
      ]
    },
    {
      "cell_type": "markdown",
      "source": [
        "# 3. Find GCD of two numbers\n"
      ],
      "metadata": {
        "id": "8NWLBiTV9sHe"
      }
    },
    {
      "cell_type": "code",
      "source": [
        "#3. Find GCD of two numbers\n",
        "def gcd(a,b):\n",
        "    if(b==0):\n",
        "        return a\n",
        "    else:\n",
        "        return gcd(b,a%b)\n",
        "\n",
        "a,b=map(int,input(\"Enter 2 numbers: \").split())\n",
        "GCD=gcd(a,b)\n",
        "print(\"GCD is: \", GCD)"
      ],
      "metadata": {
        "colab": {
          "base_uri": "https://localhost:8080/"
        },
        "id": "DN1AzZJ794Lw",
        "outputId": "a8d38d42-951f-4816-8d18-10a829b96a5d"
      },
      "execution_count": 12,
      "outputs": [
        {
          "output_type": "stream",
          "name": "stdout",
          "text": [
            "Enter 2 numbers: 60 48\n",
            "GCD is:  12\n"
          ]
        }
      ]
    },
    {
      "cell_type": "markdown",
      "source": [
        "# 4. Compute\n",
        "1.   5 to the power of 8\n",
        "2.   square root of 400\n",
        "3.   exponent of 5\n",
        "4.   Logarithm of 625 base 5\n",
        "\n",
        "\n"
      ],
      "metadata": {
        "id": "7xIEKkux-mxv"
      }
    },
    {
      "cell_type": "code",
      "source": [
        "#4. Compute a)5 to the power of 8 b)square root of 400 c)exponent of 5 d)Logarithm of 625 base 5\n",
        "import math\n",
        "print(\"5 to the power of 8 is: \",math.pow(5,8))\n",
        "print(\"square root of 400 is: \",math.sqrt(400))\n",
        "print(\"exponent of 5 is: \",math.exp(5))\n",
        "print(\"Logarithm of 625 base 5 is: \",math.log(625,5))"
      ],
      "metadata": {
        "colab": {
          "base_uri": "https://localhost:8080/"
        },
        "id": "XsPWwCx2_M-V",
        "outputId": "7290dabd-b85c-4bf5-bcb8-82d4b1f9df07"
      },
      "execution_count": 14,
      "outputs": [
        {
          "output_type": "stream",
          "name": "stdout",
          "text": [
            "5 to the power of 8 is:  390625.0\n",
            "square root of 400 is:  20.0\n",
            "exponent of 5 is:  148.4131591025766\n",
            "Logarithm of 625 base 5 is:  4.0\n"
          ]
        }
      ]
    },
    {
      "cell_type": "markdown",
      "source": [
        "# 5. Compute\n",
        "\n",
        "1.   sin of 60 degree\n",
        "2.   cos of pi\n",
        "3.   sin(0.8660254037844386)\n",
        "4.   tan of 90 degree\n",
        "\n"
      ],
      "metadata": {
        "id": "-gBKlSYg_2wQ"
      }
    },
    {
      "cell_type": "code",
      "source": [
        "#5. Compute a)sin of 60 degree b)cos of pi c)sin(0.8660254037844386) d)tan of 90 degree\n",
        "import math\n",
        "print(\"sin of 60 degree is: \",math.sin(60))\n",
        "print(\"cos of pi is: \",math.cos(math.pi))\n",
        "print(\"sin(0.8660254037844386) is: \",math.sin(0.8660254037844386))\n",
        "print(\"tan of 90 degree is: \",math.tan(90))\n"
      ],
      "metadata": {
        "colab": {
          "base_uri": "https://localhost:8080/"
        },
        "id": "MNVcWmwBAUWZ",
        "outputId": "d3b2b2a8-f9dc-4603-bbc5-69da7ef1b34b"
      },
      "execution_count": 15,
      "outputs": [
        {
          "output_type": "stream",
          "name": "stdout",
          "text": [
            "sin of 60 degree is:  -0.3048106211022167\n",
            "cos of pi is:  -1.0\n",
            "sin(0.8660254037844386) is:  0.7617599814162892\n",
            "tan of 90 degree is:  -1.995200412208242\n"
          ]
        }
      ]
    },
    {
      "cell_type": "markdown",
      "source": [
        "# 6. Define a sum function with two parameters and call the function"
      ],
      "metadata": {
        "id": "fq5cphmHAp_5"
      }
    },
    {
      "cell_type": "code",
      "source": [
        "#6. Define a sum function with two parameters and call the function\n",
        "def sum(a,b):\n",
        "  return a+b\n",
        "\n",
        "a,b=map(int,input(\"Enter 2 numbers: \").split())\n",
        "print(sum(a,b))"
      ],
      "metadata": {
        "colab": {
          "base_uri": "https://localhost:8080/"
        },
        "id": "Rsj9MpPBAs7S",
        "outputId": "fdd8a3a5-ec16-4903-fedc-396fd095ca6e"
      },
      "execution_count": 16,
      "outputs": [
        {
          "output_type": "stream",
          "name": "stdout",
          "text": [
            "Enter 2 numbers: 5 6\n",
            "11\n"
          ]
        }
      ]
    },
    {
      "cell_type": "markdown",
      "source": [
        "# 7. WAP to reverse a given string."
      ],
      "metadata": {
        "id": "J1-5bVhxA14g"
      }
    },
    {
      "cell_type": "code",
      "source": [
        "# 7. WAP to reverse a given string.\n",
        "def reverse(string):\n",
        "  str=\"\"\n",
        "  for i in string:\n",
        "    str=i+str\n",
        "  return str\n",
        "\n",
        "string=input(\"Enter a string: \")\n",
        "print(reverse(string))\n"
      ],
      "metadata": {
        "colab": {
          "base_uri": "https://localhost:8080/"
        },
        "id": "y9ER7ywQCwYp",
        "outputId": "5a285da4-7fc4-44e5-abfb-8eb608945fa8"
      },
      "execution_count": 18,
      "outputs": [
        {
          "output_type": "stream",
          "name": "stdout",
          "text": [
            "Enter a string: Subha\n",
            "ahbuS\n"
          ]
        }
      ]
    },
    {
      "cell_type": "markdown",
      "source": [
        "# 8. Write a function to calculate the power of a number using recursion"
      ],
      "metadata": {
        "id": "CgjH1UmHDACI"
      }
    },
    {
      "cell_type": "code",
      "source": [
        "# 8. Write a function to calculate the power of a number using recursion\n",
        "def power(a,b):\n",
        "  if(b==1):\n",
        "    return a\n",
        "  else:\n",
        "    return a*power(a,b-1)\n",
        "\n",
        "a,b=map(int,input(\"Enter 2 numbers: \").split())\n",
        "print(power(a,b))\n"
      ],
      "metadata": {
        "id": "-px2z0EpDDyC"
      },
      "execution_count": null,
      "outputs": []
    },
    {
      "cell_type": "markdown",
      "source": [
        "# 9. Convert Decimal number to Binary"
      ],
      "metadata": {
        "id": "FItp8nsUDODZ"
      }
    },
    {
      "cell_type": "code",
      "source": [
        "# 9. Convert Decimal number to Binary\n",
        "def binary(n):\n",
        "  if(n>1):\n",
        "    binary(n//2)\n",
        "  print(n%2,end=\"\")\n",
        "\n",
        "n=int(input(\"Enter a number: \"))\n",
        "binary(n)"
      ],
      "metadata": {
        "colab": {
          "base_uri": "https://localhost:8080/"
        },
        "id": "nVRL8fPFDRZm",
        "outputId": "0a389eed-7846-4495-d1a5-59a922c39a65"
      },
      "execution_count": 19,
      "outputs": [
        {
          "output_type": "stream",
          "name": "stdout",
          "text": [
            "Enter a number: 10\n",
            "1010"
          ]
        }
      ]
    },
    {
      "cell_type": "markdown",
      "source": [
        "# 10. Write a program in Python to check if a number is Krishnamurthy number."
      ],
      "metadata": {
        "id": "O1qdtuWkDaII"
      }
    },
    {
      "cell_type": "code",
      "source": [
        "#10. Write a program in Python to check if a number is Krishnamurthy number.\n",
        "def fact(n):\n",
        "  if(n==0):\n",
        "    return 1\n",
        "  else:\n",
        "    return n*fact(n-1)\n",
        "\n",
        "def sum(n):\n",
        "  sum=0\n",
        "  temp=n\n",
        "  while(temp>0):\n",
        "    i=temp%10\n",
        "    sum=sum+fact(i)\n",
        "    temp=temp//10\n",
        "  return sum\n",
        "\n",
        "n=int(input(\"Enter a number: \"))\n",
        "if(n==sum(n)):\n",
        "  print(\"It is a Krishnamurthy number\")\n",
        "else:\n",
        "  print(\"It is not a Krishnamurthy number\")"
      ],
      "metadata": {
        "colab": {
          "base_uri": "https://localhost:8080/"
        },
        "id": "qEbm7ZsRDgX9",
        "outputId": "f976b6f6-22f4-423d-f551-227beaced302"
      },
      "execution_count": 24,
      "outputs": [
        {
          "output_type": "stream",
          "name": "stdout",
          "text": [
            "Enter a number: 145\n",
            "It is a Krishnamurthy number\n"
          ]
        }
      ]
    },
    {
      "cell_type": "markdown",
      "source": [
        "# 11. Write a program in Python to find the sum of digits of a number."
      ],
      "metadata": {
        "id": "joZy4rkeEY9s"
      }
    },
    {
      "cell_type": "code",
      "source": [
        "# 11. Write a program in Python to find the sum of digits of a number.\n",
        "def sum(n):\n",
        "  sum=0\n",
        "  while(n>0):\n",
        "    i=n%10\n",
        "    sum=sum+i\n",
        "    n=n//10\n",
        "  return sum\n",
        "\n",
        "n=int(input(\"Enter a number: \"))\n",
        "print(sum(n))"
      ],
      "metadata": {
        "colab": {
          "base_uri": "https://localhost:8080/"
        },
        "id": "BvK_2NcsEeZc",
        "outputId": "c9bac324-c5d6-4bb2-c373-1a2291391ad5"
      },
      "execution_count": 26,
      "outputs": [
        {
          "output_type": "stream",
          "name": "stdout",
          "text": [
            "Enter a number: 123\n",
            "6\n"
          ]
        }
      ]
    },
    {
      "cell_type": "markdown",
      "source": [
        "# 12. Write a program in Python that prompts the user to input a number and prints its multiplication table."
      ],
      "metadata": {
        "id": "gIXChK9oErJl"
      }
    },
    {
      "cell_type": "code",
      "source": [
        "# 12. Write a program in Python that prompts the user to input a number and prints its multiplication table.\n",
        "def table(n):\n",
        "  for i in range(1,11):\n",
        "    print(n,\"*\",i,\"\\t=\",n*i)\n",
        "\n",
        "n=int(input(\"Enter a number: \"))\n",
        "table(n)"
      ],
      "metadata": {
        "colab": {
          "base_uri": "https://localhost:8080/"
        },
        "id": "H6TdvLxAE1Kp",
        "outputId": "7fa83858-a5ee-4874-ee14-b531f3b9e4eb"
      },
      "execution_count": 28,
      "outputs": [
        {
          "output_type": "stream",
          "name": "stdout",
          "text": [
            "Enter a number: 2\n",
            "2 * 1 \t= 2\n",
            "2 * 2 \t= 4\n",
            "2 * 3 \t= 6\n",
            "2 * 4 \t= 8\n",
            "2 * 5 \t= 10\n",
            "2 * 6 \t= 12\n",
            "2 * 7 \t= 14\n",
            "2 * 8 \t= 16\n",
            "2 * 9 \t= 18\n",
            "2 * 10 \t= 20\n"
          ]
        }
      ]
    },
    {
      "cell_type": "markdown",
      "source": [
        "# 13. Write a Python program to print the first 6 terms of a geometric sequence starting with 2 and having a common ratio of 3."
      ],
      "metadata": {
        "id": "pJObZRcRFNsp"
      }
    },
    {
      "cell_type": "code",
      "source": [
        "# 13. Write a Python program to print the first 6 terms of a geometric sequence starting with 2 and having a common ratio of 3.\n",
        "\n",
        "a=2\n",
        "d=3\n",
        "for i in range(6):\n",
        "  print(a, end=\",\")\n",
        "  a=a*d\n",
        "  i=i+1\n"
      ],
      "metadata": {
        "colab": {
          "base_uri": "https://localhost:8080/"
        },
        "id": "cmg1IIuwFSYU",
        "outputId": "67b8de47-6f46-4911-ea9d-efd67ec0c369"
      },
      "execution_count": 35,
      "outputs": [
        {
          "output_type": "stream",
          "name": "stdout",
          "text": [
            "2,6,18,54,162,486,"
          ]
        }
      ]
    },
    {
      "cell_type": "markdown",
      "source": [
        "# 14. Print the series upto N terms: 1,2,6,24,120,720 …"
      ],
      "metadata": {
        "id": "KtDUl4ImFttP"
      }
    },
    {
      "cell_type": "code",
      "source": [
        "# 14. Print the series upto N terms: 1,2,6,24,120,720 …\n",
        "def series(n):\n",
        "  if(n==0):\n",
        "    return 1\n",
        "  else:\n",
        "    return n*series(n-1)\n",
        "\n",
        "n=int(input(\"Enter a number: \"))\n",
        "for i in range(1,n+1):\n",
        "  print(series(i), end=\",\")"
      ],
      "metadata": {
        "colab": {
          "base_uri": "https://localhost:8080/"
        },
        "id": "qHmfJmSRFzCH",
        "outputId": "93d20e52-d396-49e8-c7a3-e8317267fc42"
      },
      "execution_count": 34,
      "outputs": [
        {
          "output_type": "stream",
          "name": "stdout",
          "text": [
            "Enter a number: 6\n",
            "1,2,6,24,120,720,"
          ]
        }
      ]
    },
    {
      "cell_type": "markdown",
      "source": [
        "# 15. Write a Python program that prompts the user to enter a base number and an exponent, and then calculates the power of the base to the exponent. The program should not use the exponentiation operator (**) or the math.pow() function."
      ],
      "metadata": {
        "id": "P9ZgXc-JGnXk"
      }
    },
    {
      "cell_type": "code",
      "source": [
        "# 15. Write a Python program that prompts the user to enter a base number and an exponent, and then calculates the power of the base to the exponent. The program should not use the exponentiation operator (**) or the math.pow() function.\n",
        "def power(a,b):\n",
        "  if(b==0):\n",
        "    return 1\n",
        "  else:\n",
        "    return a*power(a,b-1)\n",
        "\n",
        "a=int(input(\"Enter a base number: \"))\n",
        "b=int(input(\"Enter an exponent: \"))\n",
        "print(power(a,b))"
      ],
      "metadata": {
        "colab": {
          "base_uri": "https://localhost:8080/"
        },
        "id": "PhTkxVPOGwX1",
        "outputId": "e1152f72-166d-4eb5-99a4-c84bef4a9d52"
      },
      "execution_count": 36,
      "outputs": [
        {
          "output_type": "stream",
          "name": "stdout",
          "text": [
            "Enter a base number: 2\n",
            "Enter an exponent: 3\n",
            "8\n"
          ]
        }
      ]
    }
  ]
}